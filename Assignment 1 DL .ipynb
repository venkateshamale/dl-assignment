{
 "cells": [
  {
   "cell_type": "code",
   "execution_count": 1,
   "id": "c3678674",
   "metadata": {},
   "outputs": [],
   "source": [
    "import pandas as pd"
   ]
  },
  {
   "cell_type": "code",
   "execution_count": 2,
   "id": "c08efc08",
   "metadata": {},
   "outputs": [],
   "source": [
    "import tensorflow as tf"
   ]
  },
  {
   "cell_type": "code",
   "execution_count": 3,
   "id": "80043840",
   "metadata": {},
   "outputs": [
    {
     "name": "stdout",
     "output_type": "stream",
     "text": [
      "Requirement already satisfied: tensorflow in c:\\users\\venkatesh amale\\appdata\\local\\programs\\python\\python39\\lib\\site-packages (2.14.0)\n",
      "Requirement already satisfied: tensorflow-intel==2.14.0; platform_system == \"Windows\" in c:\\users\\venkatesh amale\\appdata\\local\\programs\\python\\python39\\lib\\site-packages (from tensorflow) (2.14.0)\n",
      "Requirement already satisfied: protobuf!=4.21.0,!=4.21.1,!=4.21.2,!=4.21.3,!=4.21.4,!=4.21.5,<5.0.0dev,>=3.20.3 in c:\\users\\venkatesh amale\\appdata\\local\\programs\\python\\python39\\lib\\site-packages (from tensorflow-intel==2.14.0; platform_system == \"Windows\"->tensorflow) (4.24.4)\n",
      "Requirement already satisfied: setuptools in c:\\users\\venkatesh amale\\appdata\\local\\programs\\python\\python39\\lib\\site-packages (from tensorflow-intel==2.14.0; platform_system == \"Windows\"->tensorflow) (49.2.1)\n",
      "Requirement already satisfied: six>=1.12.0 in c:\\users\\venkatesh amale\\appdata\\local\\programs\\python\\python39\\lib\\site-packages (from tensorflow-intel==2.14.0; platform_system == \"Windows\"->tensorflow) (1.16.0)\n",
      "Requirement already satisfied: flatbuffers>=23.5.26 in c:\\users\\venkatesh amale\\appdata\\local\\programs\\python\\python39\\lib\\site-packages (from tensorflow-intel==2.14.0; platform_system == \"Windows\"->tensorflow) (23.5.26)\n",
      "Requirement already satisfied: numpy>=1.23.5 in c:\\users\\venkatesh amale\\appdata\\local\\programs\\python\\python39\\lib\\site-packages (from tensorflow-intel==2.14.0; platform_system == \"Windows\"->tensorflow) (1.24.3)\n",
      "Requirement already satisfied: grpcio<2.0,>=1.24.3 in c:\\users\\venkatesh amale\\appdata\\local\\programs\\python\\python39\\lib\\site-packages (from tensorflow-intel==2.14.0; platform_system == \"Windows\"->tensorflow) (1.59.0)\n",
      "Requirement already satisfied: wrapt<1.15,>=1.11.0 in c:\\users\\venkatesh amale\\appdata\\local\\programs\\python\\python39\\lib\\site-packages (from tensorflow-intel==2.14.0; platform_system == \"Windows\"->tensorflow) (1.14.1)\n",
      "Requirement already satisfied: tensorflow-io-gcs-filesystem>=0.23.1 in c:\\users\\venkatesh amale\\appdata\\local\\programs\\python\\python39\\lib\\site-packages (from tensorflow-intel==2.14.0; platform_system == \"Windows\"->tensorflow) (0.31.0)\n",
      "Requirement already satisfied: astunparse>=1.6.0 in c:\\users\\venkatesh amale\\appdata\\local\\programs\\python\\python39\\lib\\site-packages (from tensorflow-intel==2.14.0; platform_system == \"Windows\"->tensorflow) (1.6.3)\n",
      "Requirement already satisfied: tensorflow-estimator<2.15,>=2.14.0 in c:\\users\\venkatesh amale\\appdata\\local\\programs\\python\\python39\\lib\\site-packages (from tensorflow-intel==2.14.0; platform_system == \"Windows\"->tensorflow) (2.14.0)\n",
      "Requirement already satisfied: typing-extensions>=3.6.6 in c:\\users\\venkatesh amale\\appdata\\local\\programs\\python\\python39\\lib\\site-packages (from tensorflow-intel==2.14.0; platform_system == \"Windows\"->tensorflow) (4.6.2)\n",
      "Requirement already satisfied: tensorboard<2.15,>=2.14 in c:\\users\\venkatesh amale\\appdata\\local\\programs\\python\\python39\\lib\\site-packages (from tensorflow-intel==2.14.0; platform_system == \"Windows\"->tensorflow) (2.14.1)\n",
      "Requirement already satisfied: h5py>=2.9.0 in c:\\users\\venkatesh amale\\appdata\\local\\programs\\python\\python39\\lib\\site-packages (from tensorflow-intel==2.14.0; platform_system == \"Windows\"->tensorflow) (3.10.0)\n",
      "Requirement already satisfied: termcolor>=1.1.0 in c:\\users\\venkatesh amale\\appdata\\local\\programs\\python\\python39\\lib\\site-packages (from tensorflow-intel==2.14.0; platform_system == \"Windows\"->tensorflow) (2.3.0)\n",
      "Requirement already satisfied: keras<2.15,>=2.14.0 in c:\\users\\venkatesh amale\\appdata\\local\\programs\\python\\python39\\lib\\site-packages (from tensorflow-intel==2.14.0; platform_system == \"Windows\"->tensorflow) (2.14.0)\n",
      "Requirement already satisfied: absl-py>=1.0.0 in c:\\users\\venkatesh amale\\appdata\\local\\programs\\python\\python39\\lib\\site-packages (from tensorflow-intel==2.14.0; platform_system == \"Windows\"->tensorflow) (2.0.0)\n",
      "Requirement already satisfied: gast!=0.5.0,!=0.5.1,!=0.5.2,>=0.2.1 in c:\\users\\venkatesh amale\\appdata\\local\\programs\\python\\python39\\lib\\site-packages (from tensorflow-intel==2.14.0; platform_system == \"Windows\"->tensorflow) (0.5.4)\n",
      "Requirement already satisfied: libclang>=13.0.0 in c:\\users\\venkatesh amale\\appdata\\local\\programs\\python\\python39\\lib\\site-packages (from tensorflow-intel==2.14.0; platform_system == \"Windows\"->tensorflow) (16.0.6)\n",
      "Requirement already satisfied: ml-dtypes==0.2.0 in c:\\users\\venkatesh amale\\appdata\\local\\programs\\python\\python39\\lib\\site-packages (from tensorflow-intel==2.14.0; platform_system == \"Windows\"->tensorflow) (0.2.0)\n",
      "Requirement already satisfied: opt-einsum>=2.3.2 in c:\\users\\venkatesh amale\\appdata\\local\\programs\\python\\python39\\lib\\site-packages (from tensorflow-intel==2.14.0; platform_system == \"Windows\"->tensorflow) (3.3.0)\n",
      "Requirement already satisfied: packaging in c:\\users\\venkatesh amale\\appdata\\local\\programs\\python\\python39\\lib\\site-packages (from tensorflow-intel==2.14.0; platform_system == \"Windows\"->tensorflow) (23.1)\n",
      "Requirement already satisfied: google-pasta>=0.1.1 in c:\\users\\venkatesh amale\\appdata\\local\\programs\\python\\python39\\lib\\site-packages (from tensorflow-intel==2.14.0; platform_system == \"Windows\"->tensorflow) (0.2.0)\n",
      "Requirement already satisfied: wheel<1.0,>=0.23.0 in c:\\users\\venkatesh amale\\appdata\\local\\programs\\python\\python39\\lib\\site-packages (from astunparse>=1.6.0->tensorflow-intel==2.14.0; platform_system == \"Windows\"->tensorflow) (0.41.2)\n",
      "Requirement already satisfied: google-auth-oauthlib<1.1,>=0.5 in c:\\users\\venkatesh amale\\appdata\\local\\programs\\python\\python39\\lib\\site-packages (from tensorboard<2.15,>=2.14->tensorflow-intel==2.14.0; platform_system == \"Windows\"->tensorflow) (1.0.0)\n",
      "Requirement already satisfied: tensorboard-data-server<0.8.0,>=0.7.0 in c:\\users\\venkatesh amale\\appdata\\local\\programs\\python\\python39\\lib\\site-packages (from tensorboard<2.15,>=2.14->tensorflow-intel==2.14.0; platform_system == \"Windows\"->tensorflow) (0.7.2)\n",
      "Requirement already satisfied: werkzeug>=1.0.1 in c:\\users\\venkatesh amale\\appdata\\local\\programs\\python\\python39\\lib\\site-packages (from tensorboard<2.15,>=2.14->tensorflow-intel==2.14.0; platform_system == \"Windows\"->tensorflow) (3.0.1)\n",
      "Requirement already satisfied: requests<3,>=2.21.0 in c:\\users\\venkatesh amale\\appdata\\local\\programs\\python\\python39\\lib\\site-packages (from tensorboard<2.15,>=2.14->tensorflow-intel==2.14.0; platform_system == \"Windows\"->tensorflow) (2.31.0)\n",
      "Requirement already satisfied: markdown>=2.6.8 in c:\\users\\venkatesh amale\\appdata\\local\\programs\\python\\python39\\lib\\site-packages (from tensorboard<2.15,>=2.14->tensorflow-intel==2.14.0; platform_system == \"Windows\"->tensorflow) (3.5)\n",
      "Requirement already satisfied: google-auth<3,>=1.6.3 in c:\\users\\venkatesh amale\\appdata\\local\\programs\\python\\python39\\lib\\site-packages (from tensorboard<2.15,>=2.14->tensorflow-intel==2.14.0; platform_system == \"Windows\"->tensorflow) (2.23.3)\n",
      "Requirement already satisfied: requests-oauthlib>=0.7.0 in c:\\users\\venkatesh amale\\appdata\\local\\programs\\python\\python39\\lib\\site-packages (from google-auth-oauthlib<1.1,>=0.5->tensorboard<2.15,>=2.14->tensorflow-intel==2.14.0; platform_system == \"Windows\"->tensorflow) (1.3.1)\n",
      "Requirement already satisfied: MarkupSafe>=2.1.1 in c:\\users\\venkatesh amale\\appdata\\local\\programs\\python\\python39\\lib\\site-packages (from werkzeug>=1.0.1->tensorboard<2.15,>=2.14->tensorflow-intel==2.14.0; platform_system == \"Windows\"->tensorflow) (2.1.2)\n",
      "Requirement already satisfied: certifi>=2017.4.17 in c:\\users\\venkatesh amale\\appdata\\local\\programs\\python\\python39\\lib\\site-packages (from requests<3,>=2.21.0->tensorboard<2.15,>=2.14->tensorflow-intel==2.14.0; platform_system == \"Windows\"->tensorflow) (2023.7.22)\n",
      "Requirement already satisfied: urllib3<3,>=1.21.1 in c:\\users\\venkatesh amale\\appdata\\local\\programs\\python\\python39\\lib\\site-packages (from requests<3,>=2.21.0->tensorboard<2.15,>=2.14->tensorflow-intel==2.14.0; platform_system == \"Windows\"->tensorflow) (2.0.7)\n",
      "Requirement already satisfied: charset-normalizer<4,>=2 in c:\\users\\venkatesh amale\\appdata\\local\\programs\\python\\python39\\lib\\site-packages (from requests<3,>=2.21.0->tensorboard<2.15,>=2.14->tensorflow-intel==2.14.0; platform_system == \"Windows\"->tensorflow) (3.3.1)\n",
      "Requirement already satisfied: idna<4,>=2.5 in c:\\users\\venkatesh amale\\appdata\\local\\programs\\python\\python39\\lib\\site-packages (from requests<3,>=2.21.0->tensorboard<2.15,>=2.14->tensorflow-intel==2.14.0; platform_system == \"Windows\"->tensorflow) (3.4)\n",
      "Requirement already satisfied: importlib-metadata>=4.4; python_version < \"3.10\" in c:\\users\\venkatesh amale\\appdata\\local\\programs\\python\\python39\\lib\\site-packages (from markdown>=2.6.8->tensorboard<2.15,>=2.14->tensorflow-intel==2.14.0; platform_system == \"Windows\"->tensorflow) (6.6.0)\n",
      "Requirement already satisfied: cachetools<6.0,>=2.0.0 in c:\\users\\venkatesh amale\\appdata\\local\\programs\\python\\python39\\lib\\site-packages (from google-auth<3,>=1.6.3->tensorboard<2.15,>=2.14->tensorflow-intel==2.14.0; platform_system == \"Windows\"->tensorflow) (5.3.2)\n",
      "Requirement already satisfied: pyasn1-modules>=0.2.1 in c:\\users\\venkatesh amale\\appdata\\local\\programs\\python\\python39\\lib\\site-packages (from google-auth<3,>=1.6.3->tensorboard<2.15,>=2.14->tensorflow-intel==2.14.0; platform_system == \"Windows\"->tensorflow) (0.3.0)\n",
      "Requirement already satisfied: rsa<5,>=3.1.4 in c:\\users\\venkatesh amale\\appdata\\local\\programs\\python\\python39\\lib\\site-packages (from google-auth<3,>=1.6.3->tensorboard<2.15,>=2.14->tensorflow-intel==2.14.0; platform_system == \"Windows\"->tensorflow) (4.9)\n",
      "Requirement already satisfied: oauthlib>=3.0.0 in c:\\users\\venkatesh amale\\appdata\\local\\programs\\python\\python39\\lib\\site-packages (from requests-oauthlib>=0.7.0->google-auth-oauthlib<1.1,>=0.5->tensorboard<2.15,>=2.14->tensorflow-intel==2.14.0; platform_system == \"Windows\"->tensorflow) (3.2.2)\n",
      "Requirement already satisfied: zipp>=0.5 in c:\\users\\venkatesh amale\\appdata\\local\\programs\\python\\python39\\lib\\site-packages (from importlib-metadata>=4.4; python_version < \"3.10\"->markdown>=2.6.8->tensorboard<2.15,>=2.14->tensorflow-intel==2.14.0; platform_system == \"Windows\"->tensorflow) (3.15.0)\n",
      "Requirement already satisfied: pyasn1<0.6.0,>=0.4.6 in c:\\users\\venkatesh amale\\appdata\\local\\programs\\python\\python39\\lib\\site-packages (from pyasn1-modules>=0.2.1->google-auth<3,>=1.6.3->tensorboard<2.15,>=2.14->tensorflow-intel==2.14.0; platform_system == \"Windows\"->tensorflow) (0.5.0)\n",
      "Note: you may need to restart the kernel to use updated packages.\n"
     ]
    },
    {
     "name": "stderr",
     "output_type": "stream",
     "text": [
      "WARNING: You are using pip version 20.2.3; however, version 23.3.1 is available.\n",
      "You should consider upgrading via the 'c:\\users\\venkatesh amale\\appdata\\local\\programs\\python\\python39\\python.exe -m pip install --upgrade pip' command.\n"
     ]
    }
   ],
   "source": [
    "pip install tensorflow"
   ]
  },
  {
   "cell_type": "code",
   "execution_count": 4,
   "id": "7d87a4f8",
   "metadata": {},
   "outputs": [
    {
     "name": "stdout",
     "output_type": "stream",
     "text": [
      "Defaulting to user installation because normal site-packages is not writeable\n"
     ]
    },
    {
     "name": "stderr",
     "output_type": "stream",
     "text": [
      "ERROR: Could not find a version that satisfies the requirement tensorflow (from versions: none)\n",
      "ERROR: No matching distribution found for tensorflow\n",
      "\n",
      "[notice] A new release of pip is available: 23.2.1 -> 23.3.1\n",
      "[notice] To update, run: python.exe -m pip install --upgrade pip\n"
     ]
    }
   ],
   "source": [
    "!pip install tensorflow"
   ]
  },
  {
   "cell_type": "code",
   "execution_count": 5,
   "id": "812beb2e",
   "metadata": {},
   "outputs": [],
   "source": [
    "import tensorflow as tf"
   ]
  },
  {
   "cell_type": "code",
   "execution_count": 6,
   "id": "11f24a5b",
   "metadata": {},
   "outputs": [
    {
     "name": "stdout",
     "output_type": "stream",
     "text": [
      "2.14.0\n",
      "tf.Tensor(1204.619, shape=(), dtype=float32)\n"
     ]
    }
   ],
   "source": [
    "print(tf.__version__)\n",
    "print(tf.reduce_sum(tf.random.normal([1000, 1000])))"
   ]
  },
  {
   "cell_type": "code",
   "execution_count": 7,
   "id": "52423725",
   "metadata": {},
   "outputs": [
    {
     "data": {
      "text/plain": [
       "((60000, 28, 28), (10000, 28, 28))"
      ]
     },
     "execution_count": 7,
     "metadata": {},
     "output_type": "execute_result"
    }
   ],
   "source": [
    "from tensorflow import keras\n",
    "import tensorflow as tf\n",
    "from keras import datasets\n",
    "import pandas as pd\n",
    "from keras.datasets import mnist\n",
    "(train_images,train_labels),(test_images,test_labels)=mnist.load_data()\n",
    "train_images.shape, test_images.shape"
   ]
  },
  {
   "cell_type": "code",
   "execution_count": 8,
   "id": "10f62c23",
   "metadata": {},
   "outputs": [
    {
     "name": "stdout",
     "output_type": "stream",
     "text": [
      "Requirement already satisfied: theano in c:\\users\\venkatesh amale\\appdata\\local\\programs\\python\\python39\\lib\\site-packages (1.0.5)\n",
      "Requirement already satisfied: six>=1.9.0 in c:\\users\\venkatesh amale\\appdata\\local\\programs\\python\\python39\\lib\\site-packages (from theano) (1.16.0)\n",
      "Requirement already satisfied: numpy>=1.9.1 in c:\\users\\venkatesh amale\\appdata\\local\\programs\\python\\python39\\lib\\site-packages (from theano) (1.24.3)\n",
      "Requirement already satisfied: scipy>=0.14 in c:\\users\\venkatesh amale\\appdata\\local\\programs\\python\\python39\\lib\\site-packages (from theano) (1.11.3)\n",
      "Note: you may need to restart the kernel to use updated packages.\n"
     ]
    },
    {
     "name": "stderr",
     "output_type": "stream",
     "text": [
      "WARNING: You are using pip version 20.2.3; however, version 23.3.1 is available.\n",
      "You should consider upgrading via the 'c:\\users\\venkatesh amale\\appdata\\local\\programs\\python\\python39\\python.exe -m pip install --upgrade pip' command.\n"
     ]
    }
   ],
   "source": [
    "pip install theano"
   ]
  },
  {
   "cell_type": "code",
   "execution_count": 9,
   "id": "36710dab",
   "metadata": {},
   "outputs": [],
   "source": [
    "import tensorflow as tf\n",
    "x=tf.constant(5.0, dtype=tf.float64)\n",
    "y=tf.constant(7.0, dtype=tf.float64)"
   ]
  },
  {
   "cell_type": "code",
   "execution_count": 10,
   "id": "2be075f6",
   "metadata": {},
   "outputs": [
    {
     "name": "stdout",
     "output_type": "stream",
     "text": [
      "12.0\n"
     ]
    }
   ],
   "source": [
    "z=x+y\n",
    "result = z.numpy()\n",
    "print(result)"
   ]
  },
  {
   "cell_type": "code",
   "execution_count": 11,
   "id": "265e5a47",
   "metadata": {},
   "outputs": [
    {
     "name": "stdout",
     "output_type": "stream",
     "text": [
      "Requirement already satisfied: torch in c:\\users\\venkatesh amale\\appdata\\local\\programs\\python\\python39\\lib\\site-packages (2.1.0)\n",
      "Requirement already satisfied: filelock in c:\\users\\venkatesh amale\\appdata\\local\\programs\\python\\python39\\lib\\site-packages (from torch) (3.12.4)\n",
      "Requirement already satisfied: fsspec in c:\\users\\venkatesh amale\\appdata\\local\\programs\\python\\python39\\lib\\site-packages (from torch) (2023.10.0)\n",
      "Requirement already satisfied: typing-extensions in c:\\users\\venkatesh amale\\appdata\\local\\programs\\python\\python39\\lib\\site-packages (from torch) (4.6.2)\n",
      "Requirement already satisfied: networkx in c:\\users\\venkatesh amale\\appdata\\local\\programs\\python\\python39\\lib\\site-packages (from torch) (3.2)\n",
      "Requirement already satisfied: jinja2 in c:\\users\\venkatesh amale\\appdata\\local\\programs\\python\\python39\\lib\\site-packages (from torch) (3.1.2)\n",
      "Requirement already satisfied: sympy in c:\\users\\venkatesh amale\\appdata\\local\\programs\\python\\python39\\lib\\site-packages (from torch) (1.12)\n",
      "Requirement already satisfied: MarkupSafe>=2.0 in c:\\users\\venkatesh amale\\appdata\\local\\programs\\python\\python39\\lib\\site-packages (from jinja2->torch) (2.1.2)\n",
      "Requirement already satisfied: mpmath>=0.19 in c:\\users\\venkatesh amale\\appdata\\local\\programs\\python\\python39\\lib\\site-packages (from sympy->torch) (1.3.0)\n",
      "Note: you may need to restart the kernel to use updated packages.\n"
     ]
    },
    {
     "name": "stderr",
     "output_type": "stream",
     "text": [
      "WARNING: You are using pip version 20.2.3; however, version 23.3.1 is available.\n",
      "You should consider upgrading via the 'c:\\users\\venkatesh amale\\appdata\\local\\programs\\python\\python39\\python.exe -m pip install --upgrade pip' command.\n"
     ]
    }
   ],
   "source": [
    "pip install torch"
   ]
  },
  {
   "cell_type": "code",
   "execution_count": 12,
   "id": "62e797d2",
   "metadata": {},
   "outputs": [
    {
     "name": "stdout",
     "output_type": "stream",
     "text": [
      "12.0\n"
     ]
    }
   ],
   "source": [
    "import torch\n",
    "x=torch.tensor(5.0, dtype=torch.float64)\n",
    "y=torch.tensor(7.0, dtype=torch.float64)\n",
    "z=x+y\n",
    "result = z.item()\n",
    "print(result)"
   ]
  },
  {
   "cell_type": "code",
   "execution_count": null,
   "id": "7f5facf6",
   "metadata": {},
   "outputs": [],
   "source": []
  }
 ],
 "metadata": {
  "kernelspec": {
   "display_name": "Python 3 (ipykernel)",
   "language": "python",
   "name": "python3"
  },
  "language_info": {
   "codemirror_mode": {
    "name": "ipython",
    "version": 3
   },
   "file_extension": ".py",
   "mimetype": "text/x-python",
   "name": "python",
   "nbconvert_exporter": "python",
   "pygments_lexer": "ipython3",
   "version": "3.9.4"
  }
 },
 "nbformat": 4,
 "nbformat_minor": 5
}
